{
 "cells": [
  {
   "cell_type": "markdown",
   "metadata": {},
   "source": [
    "# Extracting data from Flopy files \n",
    "\n",
    "notes from \n",
    "- https://codesachin.wordpress.com/2016/06/09/the-magic-behind-attribute-access-in-python/\n",
    "- https://stackoverflow.com/questions/5969806/print-all-properties-of-a-python-class"
   ]
  },
  {
   "cell_type": "markdown",
   "metadata": {},
   "source": [
    "# Data from \n",
    "### Preliminary Tutuila Groundwater Optimization \n",
    "### Chris Shuler CEE 696 Final Project\n",
    "\n",
    "this cell loads modules and loads up the flopy data"
   ]
  },
  {
   "cell_type": "code",
   "execution_count": null,
   "metadata": {},
   "outputs": [],
   "source": [
    "%matplotlib notebook\n",
    "import scipy.optimize as opt\n",
    "import numpy as np\n",
    "import flopy\n",
    "import flopy.utils.binaryfile as bf\n",
    "import matplotlib.pyplot as plt\n",
    "import inspect\n",
    "\n",
    "\n",
    "# make the screen bigger!\n",
    "from IPython.display import display, HTML\n",
    "display(HTML(data=\"\"\" <style>\n",
    "    div#notebook-container    { width: 95%; }\n",
    "    div#menubar-container     { width: 85%; }\n",
    "    div#maintoolbar-container { width: 99%; } </style> \"\"\"))\n",
    "\n",
    "\n",
    "# Assign name and create modflow model object\n",
    "txtname = 'test_no_5'\n",
    "model = flopy.modflow.Modflow(txtname, exe_name='mf2005')\n",
    "\n",
    "dis = flopy.modflow.ModflowDis.load('TutCoast_simple5.dis', model)       # this command is neededed to load an existing .dis file   (essentially is grid geometry)\n",
    "bas = flopy.modflow.ModflowBas.load('TutCoast_simple5.ba6', model)        # add an existing .basic package                         (essentially is ibound and starting heads)\n",
    "lpf = flopy.modflow.ModflowLpf.load('TutCoast_simple5.lpf', model)       # add an existing .lpf file     (hydraulic conductivity)\n",
    "rch = flopy.modflow.ModflowRch.load('TutCoast_simple5.rch', model)       # addd the Recharge package\n",
    "wel = flopy.modflow.ModflowWel.load('TutCoast_simple5.wel', model)       # addd the well package\n",
    "hobs = flopy.modflow.ModflowHob.load('TutCoast_simple5.hob', model)      # addd the obervations well package\n",
    "pcg = flopy.modflow.ModflowPcg(model)  \n",
    "\n",
    "# Add OC package to the MODFLOW model\n",
    "spd = {(0, 0): ['print head', 'print budget', 'save head', 'save budget']}\n",
    "oc = flopy.modflow.ModflowOc(model, stress_period_data=spd, compact=True)# gradient solver package from flopy\n"
   ]
  },
  {
   "cell_type": "markdown",
   "metadata": {},
   "source": [
    "# Now lets explore the data within the packages themselves"
   ]
  },
  {
   "cell_type": "code",
   "execution_count": null,
   "metadata": {},
   "outputs": [],
   "source": [
    "#this tries to list any attribute that is possible to reach.\n",
    "dir(bas) "
   ]
  },
  {
   "cell_type": "code",
   "execution_count": null,
   "metadata": {},
   "outputs": [],
   "source": [
    "# using .__dict__ on a class will create a dictionary of  all the attributes defined for the object itself. It maps the attribute name to its value.\n",
    "bas.__dict__ \n",
    "# or seems to do the same thing\n",
    "vars(bas)"
   ]
  },
  {
   "cell_type": "code",
   "execution_count": null,
   "metadata": {},
   "outputs": [],
   "source": [
    "#to acess values in the package\n",
    "bas.allowDuplicates"
   ]
  },
  {
   "cell_type": "code",
   "execution_count": null,
   "metadata": {},
   "outputs": [],
   "source": [
    "#to acess values in the package\n",
    "lpf.ipakcb"
   ]
  },
  {
   "cell_type": "code",
   "execution_count": null,
   "metadata": {},
   "outputs": [],
   "source": [
    "#to access arrays in the package\n",
    "bas.strt.array"
   ]
  },
  {
   "cell_type": "code",
   "execution_count": null,
   "metadata": {},
   "outputs": [],
   "source": [
    "# see the shape\n",
    "np.shape(bas.strt.array)"
   ]
  },
  {
   "cell_type": "code",
   "execution_count": null,
   "metadata": {},
   "outputs": [],
   "source": [
    "# first value is the layer number here there is only one, access it with []\n",
    "np.shape(bas.strt.array[0])"
   ]
  },
  {
   "cell_type": "code",
   "execution_count": null,
   "metadata": {},
   "outputs": [],
   "source": [
    "#plot the data for the given layer\n",
    "arr = bas.strt.array\n",
    "\n",
    "layer = 0\n",
    "\n",
    "data = arr[layer]\n",
    "\n",
    "fig, ax = plt.subplots(figsize = (5,3))\n",
    "im = plt.imshow(data,  aspect=0.5)\n",
    "plt.colorbar().set_label('label', rotation=270)\n",
    "plt.tight_layout()"
   ]
  },
  {
   "cell_type": "markdown",
   "metadata": {},
   "source": [
    "# Lets try and run the original model"
   ]
  },
  {
   "cell_type": "code",
   "execution_count": null,
   "metadata": {},
   "outputs": [],
   "source": [
    "# Write the MODFLOW model input files\n",
    "model.write_input()\n",
    "\n",
    "# Run the MODFLOW model\n",
    "success, buff = model.run_model()"
   ]
  },
  {
   "cell_type": "markdown",
   "metadata": {},
   "source": [
    "# display the head distribution "
   ]
  },
  {
   "cell_type": "code",
   "execution_count": null,
   "metadata": {},
   "outputs": [],
   "source": [
    "# Post process the results\n",
    "\n",
    "hds = bf.HeadFile(txtname + '.hds')\n",
    "head = hds.get_data(totim=1.0)\n",
    "levels = np.linspace(0, 10, 11)\n",
    "\n",
    "fig = plt.figure(figsize=(5,5))\n",
    "ax = fig.add_subplot(1, 1, 1, aspect='equal')\n",
    "\n",
    "hds = bf.HeadFile(txtname+'.hds')\n",
    "times = hds.get_times()\n",
    "head = hds.get_data(totim=times[-1])\n",
    "levels = np.linspace(0, 10, 11)\n",
    "\n",
    "cbb = bf.CellBudgetFile(txtname+'.cbc')\n",
    "kstpkper_list = cbb.get_kstpkper()\n",
    "frf = cbb.get_data(text='FLOW RIGHT FACE', totim=times[-1])[0]\n",
    "fff = cbb.get_data(text='FLOW FRONT FACE', totim=times[-1])[0]\n",
    "\n",
    "modelmap = flopy.plot.ModelMap(model=model, layer=0)\n",
    "qm = modelmap.plot_ibound()\n",
    "lc = modelmap.plot_grid()\n",
    "cs = modelmap.contour_array(head, levels=levels)\n",
    "quiver = modelmap.plot_discharge(frf, fff, head=head)"
   ]
  },
  {
   "cell_type": "markdown",
   "metadata": {},
   "source": [
    "## LPF class "
   ]
  },
  {
   "cell_type": "code",
   "execution_count": null,
   "metadata": {},
   "outputs": [],
   "source": [
    "# Define which modules to work on\n",
    "The_flopy_class = flopy.modflow.ModflowLpf # this is the flopy class that you want to operate on\n",
    "Local_Object_for_class = lpf\n",
    "\n",
    "\n",
    "### Step 1  - access the default values for each module, and assign all of them as local variables in this notebook\n",
    "\n",
    "defualt_dict = {} \n",
    "goodlist = inspect.getfullargspec(The_flopy_class.__dict__[\"__init__\"]).args[2:]                    # this is the list of variables omitting the self and model ones since they dont have defaults\n",
    "for idx, key in enumerate(goodlist):\n",
    "    defualt_dict[key] = inspect.getfullargspec(The_flopy_class.__dict__[\"__init__\"]).defaults[idx]  # assign each variable name as a key, each default as a value  in a dictionary \n",
    "    \n",
    "# MAGIC!  this converts a dictionaries keys to local variables that are attached to the dictionary datas \n",
    "for key,val in defualt_dict.items():\n",
    "        exec(key + '=val')\n",
    "\n",
    "### Step 2  - extract the values from the GMS file and write them to local variables in memory, those that match those above are overwrittten\n",
    "\n",
    "# MAGIC!  this converts a dictionaries keys to local variables that are attached to the dictionary datas \n",
    "module_dictionary = Local_Object_for_class.__dict__ \n",
    "for key,val in module_dictionary.items():\n",
    "    exec(key + '=val')\n",
    "\n",
    "list_of_vars = inspect.getfullargspec(The_flopy_class.__dict__[\"__init__\"]).args   # this will make a list of all the valid variables for the module \n",
    "\n",
    "# print out a string to paste into the flopy module definition  !!! remember to ditch the last  comma when pasting!!!!\n",
    "copypastestring = \"\"  \n",
    "for i in list_of_vars:\n",
    "    variable = i+\" = \"+i+\", \"\n",
    "    copypastestring = copypastestring + variable\n",
    "copypastestring = copypastestring.replace('self = self, ' , '')   # pull out the self variable \n",
    "copypastestring"
   ]
  },
  {
   "cell_type": "code",
   "execution_count": null,
   "metadata": {},
   "outputs": [],
   "source": [
    "lpf = flopy.modflow.ModflowLpf(model = model, laytyp = laytyp, layavg = layavg, chani = chani, layvka = layvka, laywet = laywet, \n",
    "                               ipakcb = ipakcb, hdry = hdry, iwdflg = iwdflg, wetfct = wetfct, iwetit = iwetit, ihdwet = ihdwet,\n",
    "                               hk = 1, hani = hani, vka = vka, ss = ss, sy = sy, vkcb = vkcb, wetdry = wetdry, \n",
    "                               storagecoefficient = storagecoefficient, constantcv = constantcv, thickstrt = thickstrt, \n",
    "                               nocvcorrection = nocvcorrection, novfc = novfc, extension = extension, unitnumber = unitnumber, \n",
    "                               filenames = filenames)\n",
    "\n",
    "        "
   ]
  },
  {
   "cell_type": "code",
   "execution_count": null,
   "metadata": {},
   "outputs": [],
   "source": [
    "\n",
    "# Write the MODFLOW model input files\n",
    "model.write_input()\n",
    "\n",
    "# Run the MODFLOW model\n",
    "success, buff = model.run_model()\n",
    "\n",
    "# Post process the results\n",
    "\n",
    "hds = bf.HeadFile(txtname + '.hds')\n",
    "head = hds.get_data(totim=1.0)\n",
    "levels = np.linspace(0, 10, 11)\n",
    "\n",
    "fig = plt.figure(figsize=(5,5))\n",
    "ax = fig.add_subplot(1, 1, 1, aspect='equal')\n",
    "\n",
    "hds = bf.HeadFile(txtname+'.hds')\n",
    "times = hds.get_times()\n",
    "head = hds.get_data(totim=times[-1])\n",
    "levels = np.linspace(0, 10, 11)\n",
    "\n",
    "cbb = bf.CellBudgetFile(txtname+'.cbc')\n",
    "kstpkper_list = cbb.get_kstpkper()\n",
    "frf = cbb.get_data(text='FLOW RIGHT FACE', totim=times[-1])[0]\n",
    "fff = cbb.get_data(text='FLOW FRONT FACE', totim=times[-1])[0]\n",
    "\n",
    "modelmap = flopy.plot.ModelMap(model=model, layer=0)\n",
    "qm = modelmap.plot_ibound()\n",
    "lc = modelmap.plot_grid()\n",
    "cs = modelmap.contour_array(head, levels=levels)\n",
    "quiver = modelmap.plot_discharge(frf, fff, head=head)\n",
    "\n",
    "print(np.max(head))"
   ]
  },
  {
   "cell_type": "code",
   "execution_count": null,
   "metadata": {},
   "outputs": [],
   "source": []
  },
  {
   "cell_type": "code",
   "execution_count": null,
   "metadata": {},
   "outputs": [],
   "source": []
  },
  {
   "cell_type": "code",
   "execution_count": null,
   "metadata": {},
   "outputs": [],
   "source": []
  },
  {
   "cell_type": "code",
   "execution_count": null,
   "metadata": {},
   "outputs": [],
   "source": []
  },
  {
   "cell_type": "code",
   "execution_count": null,
   "metadata": {},
   "outputs": [],
   "source": []
  },
  {
   "cell_type": "code",
   "execution_count": null,
   "metadata": {},
   "outputs": [],
   "source": []
  },
  {
   "cell_type": "code",
   "execution_count": null,
   "metadata": {},
   "outputs": [],
   "source": []
  },
  {
   "cell_type": "code",
   "execution_count": null,
   "metadata": {},
   "outputs": [],
   "source": []
  },
  {
   "cell_type": "code",
   "execution_count": null,
   "metadata": {},
   "outputs": [],
   "source": []
  },
  {
   "cell_type": "markdown",
   "metadata": {},
   "source": [
    "# Strange behavior, if trying to change more than one package at once the run fails not sure why, but shouldnt need to change more than one anyway...\n"
   ]
  },
  {
   "cell_type": "code",
   "execution_count": null,
   "metadata": {},
   "outputs": [],
   "source": [
    "## DIS class"
   ]
  },
  {
   "cell_type": "code",
   "execution_count": null,
   "metadata": {},
   "outputs": [],
   "source": [
    "# Define which modules to work on\n",
    "\n",
    "The_flopy_class = flopy.modflow.ModflowDis # this is the flopy class that you want to operate on\n",
    "Local_Object_for_class = dis\n",
    "\n",
    "\n",
    "### Step 1  - access the default values for each module, and assign all of them as local variables in this notebook\n",
    "\n",
    "defualt_dict = {} \n",
    "goodlist = inspect.getfullargspec(The_flopy_class.__dict__[\"__init__\"]).args[2:]                    # this is the list of variables omitting the self and model ones since they dont have defaults\n",
    "for idx, key in enumerate(goodlist):\n",
    "    defualt_dict[key] = inspect.getfullargspec(The_flopy_class.__dict__[\"__init__\"]).defaults[idx]  # assign each variable name as a key, each default as a value  in a dictionary \n",
    "    \n",
    "# MAGIC!  this converts a dictionaries keys to local variables that are attached to the dictionary datas \n",
    "for key,val in defualt_dict.items():\n",
    "        exec(key + '=val')\n",
    "\n",
    "### Step 2  - extract the values from the GMS file and write them to local variables in memory, those that match those above are overwrittten\n",
    "\n",
    "# MAGIC!  this converts a dictionaries keys to local variables that are attached to the dictionary datas \n",
    "module_dictionary = Local_Object_for_class.__dict__ \n",
    "for key,val in module_dictionary.items():\n",
    "    exec(key + '=val')\n",
    "\n",
    "list_of_vars = inspect.getfullargspec(The_flopy_class.__dict__[\"__init__\"]).args   # this will make a list of all the valid variables for the module \n",
    "\n",
    "# print out a string to paste into the flopy module definition  !!! remember to ditch the last  comma when pasting!!!!\n",
    "copypastestring = \"\"  \n",
    "for i in list_of_vars:\n",
    "    variable = i+\" = \"+i+\", \"\n",
    "    copypastestring = copypastestring + variable\n",
    "copypastestring = copypastestring.replace('self = self, ' , '')   # pull out the self variable \n",
    "copypastestring"
   ]
  },
  {
   "cell_type": "code",
   "execution_count": null,
   "metadata": {},
   "outputs": [],
   "source": [
    "dis = flopy.modflow.ModflowDis(model = model, nlay = nlay, nrow = nrow, ncol = ncol, nper = nper, \n",
    "                               delr = delr, delc = delc, laycbd = laycbd, top = top, botm = botm, \n",
    "                               perlen = perlen, nstp = nstp, tsmult = tsmult, steady = steady, itmuni = itmuni, \n",
    "                               lenuni = lenuni, extension = extension, unitnumber = unitnumber, filenames = filenames, \n",
    "                               xul = xul, yul = yul, rotation = rotation, proj4_str = proj4_str, start_datetime = start_datetime)"
   ]
  },
  {
   "cell_type": "markdown",
   "metadata": {},
   "source": [
    "## Bas Class\n",
    "\n"
   ]
  },
  {
   "cell_type": "code",
   "execution_count": null,
   "metadata": {},
   "outputs": [],
   "source": [
    "# Define which modules to work on\n",
    "\n",
    "The_flopy_class = flopy.modflow.ModflowBas # this is the flopy class that you want to operate on\n",
    "Local_Object_for_class = bas\n",
    "\n",
    "\n",
    "### Step 1  - access the default values for each module, and assign all of them as local variables in this notebook\n",
    "\n",
    "defualt_dict = {} \n",
    "goodlist = inspect.getfullargspec(The_flopy_class.__dict__[\"__init__\"]).args[2:]                    # this is the list of variables omitting the self and model ones since they dont have defaults\n",
    "for idx, key in enumerate(goodlist):\n",
    "    defualt_dict[key] = inspect.getfullargspec(The_flopy_class.__dict__[\"__init__\"]).defaults[idx]  # assign each variable name as a key, each default as a value  in a dictionary \n",
    "    \n",
    "# MAGIC!  this converts a dictionaries keys to local variables that are attached to the dictionary datas \n",
    "for key,val in defualt_dict.items():\n",
    "        exec(key + '=val')\n",
    "\n",
    "### Step 2  - extract the values from the GMS file and write them to local variables in memory, those that match those above are overwrittten\n",
    "\n",
    "# MAGIC!  this converts a dictionaries keys to local variables that are attached to the dictionary datas \n",
    "module_dictionary = Local_Object_for_class.__dict__ \n",
    "for key,val in module_dictionary.items():\n",
    "    exec(key + '=val')\n",
    "\n",
    "list_of_vars = inspect.getfullargspec(The_flopy_class.__dict__[\"__init__\"]).args   # this will make a list of all the valid variables for the module \n",
    "\n",
    "# print out a string to paste into the flopy module definition  !!! remember to ditch the last  comma when pasting!!!!\n",
    "copypastestring = \"\"  \n",
    "for i in list_of_vars:\n",
    "    variable = i+\" = \"+i+\", \"\n",
    "    copypastestring = copypastestring + variable\n",
    "copypastestring = copypastestring.replace('self = self, ' , '')   # pull out the self variable \n",
    "copypastestring"
   ]
  },
  {
   "cell_type": "code",
   "execution_count": null,
   "metadata": {},
   "outputs": [],
   "source": [
    "bas = flopy.modflow.ModflowBas(model = model, ibound = ibound, strt = strt, ifrefm = ifrefm,\n",
    "                               ixsec = ixsec, ichflg = ichflg, stoper = stoper, hnoflo = hnoflo, extension = extension, \n",
    "                               unitnumber = unitnumber, filenames = filenames)"
   ]
  },
  {
   "cell_type": "code",
   "execution_count": null,
   "metadata": {},
   "outputs": [],
   "source": []
  },
  {
   "cell_type": "code",
   "execution_count": null,
   "metadata": {},
   "outputs": [],
   "source": []
  },
  {
   "cell_type": "code",
   "execution_count": null,
   "metadata": {},
   "outputs": [],
   "source": []
  },
  {
   "cell_type": "code",
   "execution_count": null,
   "metadata": {},
   "outputs": [],
   "source": []
  },
  {
   "cell_type": "code",
   "execution_count": null,
   "metadata": {},
   "outputs": [],
   "source": []
  },
  {
   "cell_type": "code",
   "execution_count": null,
   "metadata": {},
   "outputs": [],
   "source": []
  },
  {
   "cell_type": "code",
   "execution_count": null,
   "metadata": {},
   "outputs": [],
   "source": []
  },
  {
   "cell_type": "code",
   "execution_count": null,
   "metadata": {},
   "outputs": [],
   "source": [
    "# Assign name and create modflow model object\n",
    "txtname = 'test_no_5'\n",
    "model = flopy.modflow.Modflow(txtname, exe_name='mf2005')\n",
    "\n",
    "dis = flopy.modflow.ModflowDis.load('TutCoast_simple5.dis', model)       # this command is neededed to load an existing .dis file   (essentially is grid geometry)\n",
    "bas = flopy.modflow.ModflowBas.load('TutCoast_simple5.ba6', model)        # add an existing .basic package                         (essentially is ibound and starting heads)\n",
    "lpf = flopy.modflow.ModflowLpf.load('TutCoast_simple5.lpf', model)       # add an existing .lpf file     (hydraulic conductivity)\n",
    "rch = flopy.modflow.ModflowRch.load('TutCoast_simple5.rch', model)       # addd the Recharge package\n",
    "wel = flopy.modflow.ModflowWel.load('TutCoast_simple5.wel', model)       # addd the well package\n",
    "hobs = flopy.modflow.ModflowHob.load('TutCoast_simple5.hob', model)      # addd the obervations well package\n",
    "pcg = flopy.modflow.ModflowPcg(model)  \n",
    "\n",
    "# Add OC package to the MODFLOW model\n",
    "spd = {(0, 0): ['print head', 'print budget', 'save head', 'save budget']}\n",
    "oc = flopy.modflow.ModflowOc(model, stress_period_data=spd, compact=True)# gradient solver package from flopy\n"
   ]
  },
  {
   "cell_type": "code",
   "execution_count": null,
   "metadata": {},
   "outputs": [],
   "source": []
  },
  {
   "cell_type": "code",
   "execution_count": null,
   "metadata": {},
   "outputs": [],
   "source": []
  },
  {
   "cell_type": "code",
   "execution_count": null,
   "metadata": {},
   "outputs": [],
   "source": []
  }
 ],
 "metadata": {
  "kernelspec": {
   "display_name": "Python 3",
   "language": "python",
   "name": "python3"
  },
  "language_info": {
   "codemirror_mode": {
    "name": "ipython",
    "version": 3
   },
   "file_extension": ".py",
   "mimetype": "text/x-python",
   "name": "python",
   "nbconvert_exporter": "python",
   "pygments_lexer": "ipython3",
   "version": "3.7.3"
  }
 },
 "nbformat": 4,
 "nbformat_minor": 2
}
